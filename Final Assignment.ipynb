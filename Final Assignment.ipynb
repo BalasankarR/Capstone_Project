{
 "cells": [
  {
   "cell_type": "code",
   "execution_count": 3,
   "metadata": {},
   "outputs": [],
   "source": [
    "import requests\n",
    "from bs4 import BeautifulSoup"
   ]
  },
  {
   "cell_type": "code",
   "execution_count": 4,
   "metadata": {},
   "outputs": [],
   "source": [
    "url = 'https://en.wikipedia.org/wiki/List_of_postal_codes_of_Canada:_M'\n",
    "html_content = requests.get(url).text\n",
    "soup = BeautifulSoup(html_content,\"lxml\")"
   ]
  },
  {
   "cell_type": "markdown",
   "metadata": {},
   "source": [
    "postal_table is the whole table while postal_table_data has the contents of the rows"
   ]
  },
  {
   "cell_type": "code",
   "execution_count": 5,
   "metadata": {},
   "outputs": [],
   "source": [
    "postal_table = soup.find(\"table\",attrs = {\"class\":\"wikitable\"})\n",
    "postal_table_data = postal_table.tbody.find_all(\"tr\")"
   ]
  },
  {
   "cell_type": "markdown",
   "metadata": {},
   "source": [
    "postal_table_headers has the contents of the first row which is the label for the columns"
   ]
  },
  {
   "cell_type": "code",
   "execution_count": 6,
   "metadata": {},
   "outputs": [],
   "source": [
    "postal_table_headers = []\n",
    "for th in postal_table_data[0].find_all(\"th\"):\n",
    "    postal_table_headers.append(th.text.replace('\\n',' ').strip())"
   ]
  },
  {
   "cell_type": "markdown",
   "metadata": {},
   "source": [
    "postal_code,borough,neighborhood are the lists that contain the data of the rows"
   ]
  },
  {
   "cell_type": "code",
   "execution_count": 7,
   "metadata": {},
   "outputs": [],
   "source": [
    "postal_code = []\n",
    "borough = []\n",
    "neighborhood = []\n",
    "for i in range(1,104):\n",
    "    d = postal_table_data[i].find_all(\"td\")\n",
    "    postal_code.append(d[0].text.replace('\\n', ' ').strip())\n",
    "    borough.append(d[1].text.replace('\\n', ' ').strip())\n",
    "    neighborhood.append(d[2].text.replace('\\n', ' ').strip())"
   ]
  },
  {
   "cell_type": "code",
   "execution_count": 8,
   "metadata": {},
   "outputs": [],
   "source": [
    "import pandas as pd"
   ]
  },
  {
   "cell_type": "code",
   "execution_count": 9,
   "metadata": {},
   "outputs": [],
   "source": [
    "df = pd.DataFrame()  \n",
    "df[postal_table_headers[0]] = postal_code\n",
    "df[postal_table_headers[1]] = borough\n",
    "df[postal_table_headers[2]] = neighborhood"
   ]
  },
  {
   "cell_type": "code",
   "execution_count": 11,
   "metadata": {},
   "outputs": [],
   "source": [
    "df = df[df['Borough'] != 'Not assigned']"
   ]
  },
  {
   "cell_type": "code",
   "execution_count": null,
   "metadata": {},
   "outputs": [],
   "source": []
  }
 ],
 "metadata": {
  "kernelspec": {
   "display_name": "Python",
   "language": "python",
   "name": "conda-env-python-py"
  },
  "language_info": {
   "codemirror_mode": {
    "name": "ipython",
    "version": 3
   },
   "file_extension": ".py",
   "mimetype": "text/x-python",
   "name": "python",
   "nbconvert_exporter": "python",
   "pygments_lexer": "ipython3",
   "version": "3.6.11"
  }
 },
 "nbformat": 4,
 "nbformat_minor": 4
}
